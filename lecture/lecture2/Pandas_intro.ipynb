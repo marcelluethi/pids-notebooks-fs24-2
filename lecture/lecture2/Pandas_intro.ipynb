{
 "cells": [
  {
   "cell_type": "markdown",
   "id": "3737fd82-e3a8-4573-b4cf-17ba158fb52f",
   "metadata": {},
   "source": [
    "## Introduction to Pandas"
   ]
  },
  {
   "cell_type": "markdown",
   "id": "cdbd02c1-c35a-4559-a0d4-9bc94551973a",
   "metadata": {},
   "source": [
    "Pandas is a library for working with tabular data, such as the following table:\n",
    "\n",
    "| | A | B | \n",
    "|-|---|---|\n",
    "|1| A1 | B1|\n",
    "|2| A2 | B2|\n",
    "\n",
    "In Pandas we define this table as a dictionary of columns, where each column corresponds to a sequence of values. "
   ]
  },
  {
   "cell_type": "code",
   "execution_count": null,
   "id": "c639b44c-7d7a-4bff-8c76-e9f030067406",
   "metadata": {},
   "outputs": [],
   "source": [
    "import pandas as pd"
   ]
  },
  {
   "cell_type": "code",
   "execution_count": null,
   "id": "205f58d0-dfa1-4e19-9a9a-e859238542cf",
   "metadata": {},
   "outputs": [],
   "source": [
    "table = pd.DataFrame({\n",
    "    'A': [\"A1\", \"A2\", \"A3\"],\n",
    "    'B': [\"B1\", \"B2\", \"B3\"]\n",
    "})"
   ]
  },
  {
   "cell_type": "markdown",
   "id": "3edbc6a3-677b-47c3-92c1-48706ee552e2",
   "metadata": {},
   "source": [
    "### Two views on a Pandas Dataframe"
   ]
  },
  {
   "cell_type": "markdown",
   "id": "8a4ff23a-5c53-45c4-9ba5-9e287d375da2",
   "metadata": {},
   "source": [
    "Rows of the table can be accessed using the numeric index using `loc`. \n",
    "\n",
    "* Correspond to view of Table as list of rows"
   ]
  },
  {
   "cell_type": "code",
   "execution_count": null,
   "id": "dfd651b4-fbf7-46b0-bd0e-33f34b9d7674",
   "metadata": {},
   "outputs": [],
   "source": [
    "for i in range(0, table.shape[0]):\n",
    "    row = table.loc[i]\n",
    "    print(row[\"A\"], row[\"B\"])"
   ]
  },
  {
   "cell_type": "markdown",
   "id": "ff930ec7-9291-44b2-8e2a-1a0e77dc54dd",
   "metadata": {},
   "source": [
    "Columns can be accessed using the Columnname as index\n",
    "\n",
    "* Correspond to view as dictionary of columns"
   ]
  },
  {
   "cell_type": "code",
   "execution_count": null,
   "id": "b8d9c8c4-a35a-48e0-968d-cd47e7a4c43b",
   "metadata": {},
   "outputs": [],
   "source": [
    "for col in table.columns:\n",
    "    print(table[col])"
   ]
  },
  {
   "cell_type": "markdown",
   "id": "859698df-b9fd-48aa-b4fa-869e1915133d",
   "metadata": {},
   "source": [
    "### Indexing \n",
    "\n",
    "* Every row has an associated index value"
   ]
  },
  {
   "cell_type": "code",
   "execution_count": null,
   "id": "25a305ec-67ed-498a-883c-0b033cacdcda",
   "metadata": {},
   "outputs": [],
   "source": [
    "table.index"
   ]
  },
  {
   "cell_type": "markdown",
   "id": "5cf4a43c-08a0-4ba6-8a7e-3a64d9162e71",
   "metadata": {},
   "source": [
    "* The default indices are the numbers in the interval `[0, n]`\n",
    "* Possible to set index as arbitrary column of a dataframe"
   ]
  },
  {
   "cell_type": "code",
   "execution_count": null,
   "id": "8efd4aef-2951-4cc8-89a0-5d69f4aab6ce",
   "metadata": {},
   "outputs": [],
   "source": [
    "idics = pd.Index([\"R1\", \"R2\", \"R3\"])\n",
    "table.set_index(idics,  inplace=True)"
   ]
  },
  {
   "cell_type": "code",
   "execution_count": null,
   "id": "3117a2ea-389e-4696-87e7-252282f3f21b",
   "metadata": {},
   "outputs": [],
   "source": [
    "table.loc['R2'] "
   ]
  },
  {
   "cell_type": "markdown",
   "id": "add9a967-0bc6-4107-9db5-f0f9c5bc3d7a",
   "metadata": {},
   "source": [
    "Note that mumerical indexing is still possible using `iloc`"
   ]
  },
  {
   "cell_type": "markdown",
   "id": "6bb53f4a-80a1-4444-803c-27a932d60b75",
   "metadata": {},
   "source": [
    "We can also index based on truth values"
   ]
  },
  {
   "cell_type": "code",
   "execution_count": null,
   "id": "f30981f5-b8e7-4d6d-a7cb-c74a5a1c4f1a",
   "metadata": {},
   "outputs": [],
   "source": [
    "selected_rows = (table[\"A\"] == \"A1\") | (table[\"B\"] ==\"B2\")\n",
    "print(selected_rows)"
   ]
  },
  {
   "cell_type": "code",
   "execution_count": null,
   "id": "2d1c0e43-51fa-4669-8caf-6fe711118695",
   "metadata": {},
   "outputs": [],
   "source": [
    "table[selected_rows]"
   ]
  },
  {
   "cell_type": "markdown",
   "id": "1e5affae-993f-4dc4-b6f3-f891895537a2",
   "metadata": {},
   "source": [
    "### Other useful operations\n",
    "\n"
   ]
  },
  {
   "cell_type": "markdown",
   "id": "bd750c18-adbd-432d-aa09-fc22ff2f5979",
   "metadata": {},
   "source": [
    "Real-world datasets are big. We need to select a subset of the data to get an overview. \n",
    "\n",
    "Let's load a big dataset:"
   ]
  },
  {
   "cell_type": "code",
   "execution_count": null,
   "id": "904ff87f-e654-4c5f-bf31-6751edc27006",
   "metadata": {},
   "outputs": [],
   "source": [
    "url = 'https://archive.ics.uci.edu/ml/machine-learning-databases/wine-quality/winequality-red.csv'\n",
    "df = pd.read_csv(url, delimiter=\";\")"
   ]
  },
  {
   "cell_type": "markdown",
   "id": "4819a4f2-6942-4c3c-a56c-0e9dff6a066f",
   "metadata": {},
   "source": [
    "With `df.shape` we see how large the data actually is"
   ]
  },
  {
   "cell_type": "code",
   "execution_count": null,
   "id": "9bcf87c9-5108-4c92-a472-debde7b6aefd",
   "metadata": {},
   "outputs": [],
   "source": [
    "df.shape"
   ]
  },
  {
   "cell_type": "markdown",
   "id": "73235c71-e3f4-40d8-8c6b-27740c02ddc0",
   "metadata": {},
   "source": [
    "With `df.head` we can show the first `n` columns:"
   ]
  },
  {
   "cell_type": "code",
   "execution_count": null,
   "id": "71204da8-4511-4533-aa6e-8629f43e35c1",
   "metadata": {},
   "outputs": [],
   "source": [
    "df.head(10)"
   ]
  },
  {
   "cell_type": "markdown",
   "id": "5f50cd93-3447-4a56-b229-faa5bbbd51e2",
   "metadata": {},
   "source": [
    "`df.describe` gives us a quick overview with a few statistics computed for each column. "
   ]
  },
  {
   "cell_type": "code",
   "execution_count": null,
   "id": "21f1e035-e3d3-4c1c-bc7c-b14c3093636a",
   "metadata": {},
   "outputs": [],
   "source": [
    "df.describe()"
   ]
  },
  {
   "cell_type": "markdown",
   "id": "703d04e7-9c1a-4fc7-bc45-88f5fb00341c",
   "metadata": {},
   "source": [
    "#### Plotting"
   ]
  },
  {
   "cell_type": "markdown",
   "id": "5e0b9c26-1908-4fac-a6ee-5f2a2803092f",
   "metadata": {},
   "source": [
    "Pandas contains convenient plotting functions"
   ]
  },
  {
   "cell_type": "code",
   "execution_count": null,
   "id": "7a5815bc-26fc-44a5-8cbd-f93270107afe",
   "metadata": {},
   "outputs": [],
   "source": [
    "df[\"fixed acidity\"].plot.hist()"
   ]
  },
  {
   "cell_type": "code",
   "execution_count": null,
   "id": "dfc31b48-e9af-435f-a9a9-c989733e43f3",
   "metadata": {},
   "outputs": [],
   "source": [
    "df.plot.scatter(x=\"fixed acidity\", y=\"pH\")"
   ]
  },
  {
   "cell_type": "markdown",
   "id": "a9237098-4baf-49f2-bf86-61960853b504",
   "metadata": {},
   "source": [
    "### Missing data\n",
    "\n",
    "In many real world dataset some values are missing. In Pandas this is either indicated by `np.nan` or `None`"
   ]
  },
  {
   "cell_type": "code",
   "execution_count": null,
   "id": "160c8e5e-7754-48f1-a2dd-bf179c40394d",
   "metadata": {},
   "outputs": [],
   "source": [
    "import numpy as np\n",
    "table_with_missing_data = pd.DataFrame({\"Col1\" : [1, np.nan, None, 3], \"Col2\": [2, 3, 4, None]})"
   ]
  },
  {
   "cell_type": "code",
   "execution_count": null,
   "id": "0979936e-1e11-4ee1-bf70-4ef69c572351",
   "metadata": {
    "scrolled": true
   },
   "outputs": [],
   "source": [
    "table_with_missing_data"
   ]
  },
  {
   "cell_type": "markdown",
   "id": "e1f685d6-5f8d-421f-92e6-4a4a09aa9e0c",
   "metadata": {},
   "source": [
    "We either can choose to replace the missing values with real values, or simply drop the missing data:"
   ]
  },
  {
   "cell_type": "code",
   "execution_count": null,
   "id": "08f17f8a-5c68-4b0c-9f7d-521748f79970",
   "metadata": {},
   "outputs": [],
   "source": [
    "table_with_missing_data.fillna(0)"
   ]
  },
  {
   "cell_type": "code",
   "execution_count": null,
   "id": "32aecc5f-a8df-4c22-b599-691399532589",
   "metadata": {},
   "outputs": [],
   "source": [
    "table_with_missing_data.dropna()"
   ]
  }
 ],
 "metadata": {
  "kernelspec": {
   "display_name": "Python 3 (ipykernel)",
   "language": "python",
   "name": "conda-env-pids_2023-py"
  },
  "language_info": {
   "codemirror_mode": {
    "name": "ipython",
    "version": 3
   },
   "file_extension": ".py",
   "mimetype": "text/x-python",
   "name": "python",
   "nbconvert_exporter": "python",
   "pygments_lexer": "ipython3",
   "version": "3.12.2"
  }
 },
 "nbformat": 4,
 "nbformat_minor": 5
}
