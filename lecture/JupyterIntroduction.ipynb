{
 "cells": [
  {
   "cell_type": "markdown",
   "metadata": {
    "deletable": false,
    "slideshow": {
     "slide_type": "slide"
    }
   },
   "source": [
    "# Basics of  Jupyter Notebooks\n",
    "#### Marcel Lüthi, Andreas Morel-Forster<br/>Departement Mathematik und Informatik, Universität Basel\n"
   ]
  },
  {
   "cell_type": "markdown",
   "metadata": {
    "deletable": false,
    "slideshow": {
     "slide_type": "fragment"
    }
   },
   "source": [
    "This notebook is an introduction to Jupyter Notebooks (JNB). You will learn:\n",
    "\n",
    "* how to operate JNBs.\n",
    "* what cells are, the organizational unit of JNBs.\n",
    "* how cells can be formatted using Markdown.\n",
    "* how to execute code cells."
   ]
  },
  {
   "cell_type": "markdown",
   "metadata": {
    "deletable": false,
    "slideshow": {
     "slide_type": "subslide"
    }
   },
   "source": [
    "### Basics"
   ]
  },
  {
   "cell_type": "markdown",
   "metadata": {
    "deletable": false,
    "slideshow": {
     "slide_type": "-"
    }
   },
   "source": [
    "A Jupyter Notebook is:\n",
    "\n",
    "* Organized in cells.\n",
    "* Both a notebook and program code at the same time.\n",
    "* An ideal place to do experiments with code\n",
    "* Saved for you personally in your storage space at the University of Basel.\n",
    "\n"
   ]
  },
  {
   "cell_type": "markdown",
   "metadata": {
    "deletable": false,
    "slideshow": {
     "slide_type": "slide"
    }
   },
   "source": [
    "### Basic usage"
   ]
  },
  {
   "cell_type": "markdown",
   "metadata": {
    "deletable": false,
    "slideshow": {
     "slide_type": "-"
    }
   },
   "source": [
    "You can save the current state of your notebook via the File / Save and Checkpoint menu or with the save button .\n",
    "* When a cell is selected, you can execute it using the ► Run button.\n",
    "* The current cell can be identified by its surrounding border.\n",
    "* A new cell is inserted below the current cell with ✚.\n",
    "* An active cell can be cut out with ✄."
   ]
  },
  {
   "cell_type": "markdown",
   "metadata": {
    "deletable": false,
    "slideshow": {
     "slide_type": "slide"
    }
   },
   "source": [
    "#### Exercises\n",
    "* Save the notebook.\n",
    "* Insert a cell after this cell\n",
    "* Delete the new cell again\n",
    "* If you messed things up, try `File` / `Revert to Checkpoint`. "
   ]
  },
  {
   "cell_type": "markdown",
   "metadata": {
    "deletable": false,
    "slideshow": {
     "slide_type": "slide"
    }
   },
   "source": [
    "### Working with cells"
   ]
  },
  {
   "cell_type": "markdown",
   "metadata": {
    "deletable": false
   },
   "source": [
    "- There are two types of cells, **Code** cells and **Markdown** cells.\n",
    "- There are two states when you edit a notebook:\n",
    "    - **Edit** mode, to change a cell.\n",
    "        - Activated by double-clicking the mouse or pressing the `Enter` key.\n",
    "    - **Command** mode to execute cells, move them around, change a cell's type.\n",
    "        - Activated by the `Esc` key, or by executing a cell with `Ctrl`+`Enter`."
   ]
  },
  {
   "cell_type": "markdown",
   "metadata": {
    "deletable": false,
    "slideshow": {
     "slide_type": "slide"
    }
   },
   "source": [
    "### Code Cells\n",
    "- Code cells are identified by the marking ```In [..]```.\n",
    "- A selected cell is changed to a code cell by pressing the `Y` key or through the menu `Cell` / `Cell Type` / `Code`.\n",
    "- When executing the cell (&#9658; `Run`), the Java code is translated / compiled and executed.\n",
    "- Can generate an output below the cell upon execution.\n"
   ]
  },
  {
   "cell_type": "markdown",
   "metadata": {
    "deletable": false,
    "slideshow": {
     "slide_type": "fragment"
    }
   },
   "source": [
    "Run the following code:"
   ]
  },
  {
   "cell_type": "code",
   "execution_count": 1,
   "metadata": {
    "deletable": false
   },
   "outputs": [
    {
     "name": "stdout",
     "output_type": "stream",
     "text": [
      "hello PIDS-students\n"
     ]
    }
   ],
   "source": [
    "print(\"hello PIDS-students\")"
   ]
  },
  {
   "cell_type": "markdown",
   "metadata": {
    "deletable": false,
    "slideshow": {
     "slide_type": "slide"
    }
   },
   "source": [
    "### Text cells\n"
   ]
  },
  {
   "cell_type": "markdown",
   "metadata": {
    "deletable": false
   },
   "source": [
    "- Serve as scripts, assignments, or for you as **notes**.\n",
    "- A selected cell is changed to a text cell by pressing the `M` key or through the menu `Cell` / `Cell Type` / `Markdown`.\n",
    "- Are displayed \"beautifully\" when you execute the cells.\n",
    "- Use *Markdown* to format the text.\n",
    "- Take a look at the next cell and then execute the cell."
   ]
  },
  {
   "cell_type": "markdown",
   "metadata": {
    "deletable": false,
    "slideshow": {
     "slide_type": "slide"
    }
   },
   "source": [
    "#### Example\n",
    "\n",
    "This markdown cell is intended to show you different formatting options\n",
    "- **bold**,\n",
    "- *italic*,\n",
    "- and how useful a list is\n",
    "\n",
    "> To quote or not to quote, that's the question\n",
    "\n",
    "| Tabular | Info |\n",
    "| --- | --- |\n",
    "| Rows | Are important |"
   ]
  },
  {
   "cell_type": "markdown",
   "metadata": {
    "deletable": false,
    "slideshow": {
     "slide_type": "slide"
    }
   },
   "source": [
    "### Take-Home\n",
    "- Jupyter Notebooks are your playground for experiments with Python.\n",
    "- You can save the notebook with &#128427; and edit it later.\n",
    "- &#9658; `Run` is for executing a cell.\n",
    "- &#10010; is for inserting a cell.\n",
    "- There are Code and Markdown cells.\n"
   ]
  },
  {
   "cell_type": "markdown",
   "metadata": {
    "deletable": false,
    "slideshow": {
     "slide_type": "slide"
    }
   },
   "source": [
    "### Further Information\n",
    "\n",
    "- You can find an overview of Markdown syntax [here](https://medium.com/analytics-vidhya/the-ultimate-markdown-guide-for-jupyter-notebook-d5e5abf728fd).\n",
    "- An overview of keyboard shortcuts can be found in the menu `Help` / `Keyboard Shortcuts`.\n"
   ]
  }
 ],
 "metadata": {
  "kernelspec": {
   "display_name": "Python 3 (ipykernel)",
   "language": "python",
   "name": "python3"
  },
  "language_info": {
   "codemirror_mode": {
    "name": "ipython",
    "version": 3
   },
   "file_extension": ".py",
   "mimetype": "text/x-python",
   "name": "python",
   "nbconvert_exporter": "python",
   "pygments_lexer": "ipython3",
   "version": "3.12.2"
  },
  "toc": {
   "base_numbering": 1,
   "nav_menu": {},
   "number_sections": false,
   "sideBar": false,
   "skip_h1_title": false,
   "title_cell": "Table of Contents",
   "title_sidebar": "Contents",
   "toc_cell": false,
   "toc_position": {},
   "toc_section_display": false,
   "toc_window_display": false
  }
 },
 "nbformat": 4,
 "nbformat_minor": 4
}
