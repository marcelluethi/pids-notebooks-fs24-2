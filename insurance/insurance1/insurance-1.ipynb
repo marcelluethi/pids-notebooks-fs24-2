{
 "cells": [
  {
   "cell_type": "markdown",
   "id": "6c95afba",
   "metadata": {},
   "source": [
    "# Exam Insurance - 1 \n",
    "\n",
    "Time: 15 Minutes\n",
    "\n",
    "Please solve the following exercises. "
   ]
  },
  {
   "cell_type": "code",
   "execution_count": 18,
   "id": "43dc9f54",
   "metadata": {},
   "outputs": [],
   "source": [
    "# Initialize Otter\n",
    "import otter\n",
    "grader = otter.Notebook(\"insurance-1.ipynb\")"
   ]
  },
  {
   "cell_type": "code",
   "execution_count": 17,
   "id": "857f19f2",
   "metadata": {},
   "outputs": [],
   "source": [
    "import pandas as pd"
   ]
  },
  {
   "cell_type": "markdown",
   "id": "3209e90e",
   "metadata": {},
   "source": [
    "### Question 1\n",
    "\n"
   ]
  },
  {
   "cell_type": "markdown",
   "id": "c2632f7b",
   "metadata": {},
   "source": [
    "Implement the function `count_num_negative`, which takes a list of numbers and returns how many element in the list are negative. "
   ]
  },
  {
   "cell_type": "code",
   "execution_count": 40,
   "id": "cbfbb8f1",
   "metadata": {},
   "outputs": [
    {
     "data": {
      "text/plain": [
       "Ellipsis"
      ]
     },
     "execution_count": 40,
     "metadata": {},
     "output_type": "execute_result"
    }
   ],
   "source": [
    "class Question1:\n",
    "    \n",
    "    @staticmethod\n",
    "    def count_num_negative(numbers):\n",
    "        return ... # your answer\n",
    "    \n",
    "# Example call\n",
    "Question1.count_num_negative([1, -3, 2])   "
   ]
  },
  {
   "cell_type": "markdown",
   "id": "2fcb40ef",
   "metadata": {},
   "source": [
    "Check your answer:"
   ]
  },
  {
   "cell_type": "code",
   "execution_count": 41,
   "id": "448dd40f",
   "metadata": {},
   "outputs": [
    {
     "data": {
      "text/html": [
       "<p><strong style='color: red;'><pre style='display: inline;'>Question 1</pre> results:</strong></p><p><strong><pre style='display: inline;'>Question 1 - 1</pre> result:</strong></p><pre>    ❌ Test case failed\n",
       "    Error at line 11 in test Question 1:\n",
       "          assert_equal(q1.count_num_negative([1, 7, 3, -1, -1, -7]), 3) \n",
       "    AssertionError: 3 does not equal Ellipsis</pre>"
      ],
      "text/plain": [
       "Question 1 results:\n",
       "    Question 1 - 1 result:\n",
       "        ❌ Test case failed\n",
       "        Error at line 11 in test Question 1:\n",
       "              assert_equal(q1.count_num_negative([1, 7, 3, -1, -1, -7]), 3) \n",
       "        AssertionError: 3 does not equal Ellipsis"
      ]
     },
     "execution_count": 41,
     "metadata": {},
     "output_type": "execute_result"
    }
   ],
   "source": [
    "grader.check(\"Question 1\")"
   ]
  },
  {
   "cell_type": "markdown",
   "id": "83fc33e0",
   "metadata": {},
   "source": [
    "### Exercise 2\n",
    "\n"
   ]
  },
  {
   "cell_type": "markdown",
   "id": "9f32eb50",
   "metadata": {},
   "source": [
    "Execute the following cell to read the pew dataset. Assign the highest value in the column `frequency` to the variable `max_frequency`. "
   ]
  },
  {
   "cell_type": "code",
   "execution_count": 43,
   "id": "c21b885d",
   "metadata": {},
   "outputs": [
    {
     "data": {
      "text/html": [
       "<div>\n",
       "<style scoped>\n",
       "    .dataframe tbody tr th:only-of-type {\n",
       "        vertical-align: middle;\n",
       "    }\n",
       "\n",
       "    .dataframe tbody tr th {\n",
       "        vertical-align: top;\n",
       "    }\n",
       "\n",
       "    .dataframe thead th {\n",
       "        text-align: right;\n",
       "    }\n",
       "</style>\n",
       "<table border=\"1\" class=\"dataframe\">\n",
       "  <thead>\n",
       "    <tr style=\"text-align: right;\">\n",
       "      <th></th>\n",
       "      <th>religion</th>\n",
       "      <th>income</th>\n",
       "      <th>frequency</th>\n",
       "    </tr>\n",
       "  </thead>\n",
       "  <tbody>\n",
       "    <tr>\n",
       "      <th>0</th>\n",
       "      <td>Agnostic</td>\n",
       "      <td>&lt;$10k</td>\n",
       "      <td>27</td>\n",
       "    </tr>\n",
       "    <tr>\n",
       "      <th>1</th>\n",
       "      <td>Agnostic</td>\n",
       "      <td>$30-40k</td>\n",
       "      <td>81</td>\n",
       "    </tr>\n",
       "    <tr>\n",
       "      <th>2</th>\n",
       "      <td>Agnostic</td>\n",
       "      <td>$40-50k</td>\n",
       "      <td>76</td>\n",
       "    </tr>\n",
       "    <tr>\n",
       "      <th>3</th>\n",
       "      <td>Agnostic</td>\n",
       "      <td>$50-75k</td>\n",
       "      <td>137</td>\n",
       "    </tr>\n",
       "    <tr>\n",
       "      <th>4</th>\n",
       "      <td>Agnostic</td>\n",
       "      <td>$10-20k</td>\n",
       "      <td>34</td>\n",
       "    </tr>\n",
       "    <tr>\n",
       "      <th>5</th>\n",
       "      <td>Agnostic</td>\n",
       "      <td>$20-30k</td>\n",
       "      <td>60</td>\n",
       "    </tr>\n",
       "    <tr>\n",
       "      <th>6</th>\n",
       "      <td>Atheist</td>\n",
       "      <td>$40-50k</td>\n",
       "      <td>35</td>\n",
       "    </tr>\n",
       "    <tr>\n",
       "      <th>7</th>\n",
       "      <td>Atheist</td>\n",
       "      <td>$20-30k</td>\n",
       "      <td>37</td>\n",
       "    </tr>\n",
       "    <tr>\n",
       "      <th>8</th>\n",
       "      <td>Atheist</td>\n",
       "      <td>$10-20k</td>\n",
       "      <td>27</td>\n",
       "    </tr>\n",
       "    <tr>\n",
       "      <th>9</th>\n",
       "      <td>Atheist</td>\n",
       "      <td>$30-40k</td>\n",
       "      <td>52</td>\n",
       "    </tr>\n",
       "  </tbody>\n",
       "</table>\n",
       "</div>"
      ],
      "text/plain": [
       "   religion   income  frequency\n",
       "0  Agnostic    <$10k         27\n",
       "1  Agnostic  $30-40k         81\n",
       "2  Agnostic  $40-50k         76\n",
       "3  Agnostic  $50-75k        137\n",
       "4  Agnostic  $10-20k         34\n",
       "5  Agnostic  $20-30k         60\n",
       "6   Atheist  $40-50k         35\n",
       "7   Atheist  $20-30k         37\n",
       "8   Atheist  $10-20k         27\n",
       "9   Atheist  $30-40k         52"
      ]
     },
     "execution_count": 43,
     "metadata": {},
     "output_type": "execute_result"
    }
   ],
   "source": [
    "import pandas as pd\n",
    "pew = pd.read_csv(\"pew-tidy.csv\")\n",
    "pew.head(10)"
   ]
  },
  {
   "cell_type": "code",
   "execution_count": 47,
   "id": "0343d3f0",
   "metadata": {},
   "outputs": [
    {
     "name": "stdout",
     "output_type": "stream",
     "text": [
      "Ellipsis\n"
     ]
    }
   ],
   "source": [
    "class Question2:\n",
    "    \n",
    "    max_frequency = ... # your solution\n",
    "    \n",
    "    print(max_frequency)"
   ]
  },
  {
   "cell_type": "code",
   "execution_count": 48,
   "id": "8ea6fb42",
   "metadata": {},
   "outputs": [
    {
     "data": {
      "text/html": [
       "<p><strong style='color: red;'><pre style='display: inline;'>Question 2</pre> results:</strong></p><p><strong><pre style='display: inline;'>Question 2 - 1</pre> result:</strong></p><pre>    ❌ Test case failed\n",
       "    Error at line 11 in test Question 2:\n",
       "          assert_equal(q2.max_frequency, 1486) \n",
       "    AssertionError: 1486 does not equal Ellipsis</pre>"
      ],
      "text/plain": [
       "Question 2 results:\n",
       "    Question 2 - 1 result:\n",
       "        ❌ Test case failed\n",
       "        Error at line 11 in test Question 2:\n",
       "              assert_equal(q2.max_frequency, 1486) \n",
       "        AssertionError: 1486 does not equal Ellipsis"
      ]
     },
     "execution_count": 48,
     "metadata": {},
     "output_type": "execute_result"
    }
   ],
   "source": [
    "grader.check(\"Question 2\")"
   ]
  },
  {
   "cell_type": "markdown",
   "id": "64c080dc",
   "metadata": {},
   "source": [
    "### Question 3\n",
    "\n",
    "Extract all the rows from above dataset for which the religion is `Catholic`"
   ]
  },
  {
   "cell_type": "code",
   "execution_count": 54,
   "id": "5c2470da",
   "metadata": {},
   "outputs": [
    {
     "data": {
      "text/html": [
       "<div>\n",
       "<style scoped>\n",
       "    .dataframe tbody tr th:only-of-type {\n",
       "        vertical-align: middle;\n",
       "    }\n",
       "\n",
       "    .dataframe tbody tr th {\n",
       "        vertical-align: top;\n",
       "    }\n",
       "\n",
       "    .dataframe thead th {\n",
       "        text-align: right;\n",
       "    }\n",
       "</style>\n",
       "<table border=\"1\" class=\"dataframe\">\n",
       "  <thead>\n",
       "    <tr style=\"text-align: right;\">\n",
       "      <th></th>\n",
       "      <th>religion</th>\n",
       "      <th>income</th>\n",
       "      <th>frequency</th>\n",
       "    </tr>\n",
       "  </thead>\n",
       "  <tbody>\n",
       "    <tr>\n",
       "      <th>18</th>\n",
       "      <td>Catholic</td>\n",
       "      <td>$40-50k</td>\n",
       "      <td>638</td>\n",
       "    </tr>\n",
       "    <tr>\n",
       "      <th>19</th>\n",
       "      <td>Catholic</td>\n",
       "      <td>$30-40k</td>\n",
       "      <td>670</td>\n",
       "    </tr>\n",
       "    <tr>\n",
       "      <th>20</th>\n",
       "      <td>Catholic</td>\n",
       "      <td>$20-30k</td>\n",
       "      <td>732</td>\n",
       "    </tr>\n",
       "    <tr>\n",
       "      <th>21</th>\n",
       "      <td>Catholic</td>\n",
       "      <td>$50-75k</td>\n",
       "      <td>1116</td>\n",
       "    </tr>\n",
       "    <tr>\n",
       "      <th>22</th>\n",
       "      <td>Catholic</td>\n",
       "      <td>$10-20k</td>\n",
       "      <td>617</td>\n",
       "    </tr>\n",
       "    <tr>\n",
       "      <th>23</th>\n",
       "      <td>Catholic</td>\n",
       "      <td>&lt;$10k</td>\n",
       "      <td>418</td>\n",
       "    </tr>\n",
       "  </tbody>\n",
       "</table>\n",
       "</div>"
      ],
      "text/plain": [
       "    religion   income  frequency\n",
       "18  Catholic  $40-50k        638\n",
       "19  Catholic  $30-40k        670\n",
       "20  Catholic  $20-30k        732\n",
       "21  Catholic  $50-75k       1116\n",
       "22  Catholic  $10-20k        617\n",
       "23  Catholic    <$10k        418"
      ]
     },
     "metadata": {},
     "output_type": "display_data"
    }
   ],
   "source": [
    "class Question3:\n",
    "    \n",
    "    pew_catholic = pew[pew[\"religion\"] == \"Catholic\"]\n",
    "    \n",
    "    display(pew_catholic)"
   ]
  },
  {
   "cell_type": "code",
   "execution_count": 55,
   "id": "fbe82c94",
   "metadata": {},
   "outputs": [
    {
     "data": {
      "text/html": [
       "<p><strong><pre style='display: inline;'>Question 3</pre></strong> passed! 💯</p>"
      ],
      "text/plain": [
       "Question 3 results: All test cases passed!"
      ]
     },
     "execution_count": 55,
     "metadata": {},
     "output_type": "execute_result"
    }
   ],
   "source": [
    "grader.check(\"Question 3\")"
   ]
  }
 ],
 "metadata": {
  "kernelspec": {
   "display_name": "Python [conda env:pids_2023]",
   "language": "python",
   "name": "conda-env-pids_2023-py"
  },
  "language_info": {
   "codemirror_mode": {
    "name": "ipython",
    "version": 3
   },
   "file_extension": ".py",
   "mimetype": "text/x-python",
   "name": "python",
   "nbconvert_exporter": "python",
   "pygments_lexer": "ipython3",
   "version": "3.11.0"
  }
 },
 "nbformat": 4,
 "nbformat_minor": 5
}
