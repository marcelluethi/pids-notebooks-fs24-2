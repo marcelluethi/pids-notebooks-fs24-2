{
 "cells": [
  {
   "cell_type": "markdown",
   "id": "6c95afba",
   "metadata": {},
   "source": [
    "# Exam Insurance - 2 \n",
    "\n",
    "Time: 10 Minutes\n",
    "\n",
    "Please solve the following exercises. "
   ]
  },
  {
   "cell_type": "code",
   "execution_count": null,
   "id": "43dc9f54",
   "metadata": {},
   "outputs": [],
   "source": [
    "# Initialize Otter\n",
    "import otter\n",
    "grader = otter.Notebook(\"insurance-2.ipynb\")"
   ]
  },
  {
   "cell_type": "code",
   "execution_count": 68,
   "id": "857f19f2",
   "metadata": {},
   "outputs": [],
   "source": [
    "import pandas as pd"
   ]
  },
  {
   "cell_type": "markdown",
   "id": "8df8edd1",
   "metadata": {},
   "source": [
    "### Question 0: Attendence\n",
    "\n",
    "Write down the number on the black board."
   ]
  },
  {
   "cell_type": "code",
   "execution_count": 69,
   "id": "63dc20d5",
   "metadata": {},
   "outputs": [],
   "source": [
    "class Question0:\n",
    "    answer = ..."
   ]
  },
  {
   "cell_type": "markdown",
   "id": "3209e90e",
   "metadata": {},
   "source": [
    "### Question 1\n",
    "\n"
   ]
  },
  {
   "cell_type": "markdown",
   "id": "c2632f7b",
   "metadata": {},
   "source": [
    "The following dataset is not tidy. Please make it tidy by melting it. It should have a new column *subject* and a new column *score*.  "
   ]
  },
  {
   "cell_type": "code",
   "execution_count": null,
   "id": "812b1bc3",
   "metadata": {},
   "outputs": [],
   "source": [
    "data = {\n",
    "    'Student_ID': ['S001', 'S002', 'S003', 'S004'],\n",
    "    'Name': ['Alex', 'Bryan', 'Cathy', 'Diana'],\n",
    "    'Math': [88, 72, 94, 89],\n",
    "    'Science': [84, 76, 88, 92],\n",
    "    'English': [90, 82, 95, 88]\n",
    "}\n",
    "\n",
    "grades = pd.DataFrame(data)\n",
    "display(grades)"
   ]
  },
  {
   "cell_type": "code",
   "execution_count": null,
   "id": "cbfbb8f1",
   "metadata": {},
   "outputs": [],
   "source": [
    "class Question1:\n",
    "    \n",
    "    grades_tidy = ...  # your answer\n",
    "    display(grades_tidy)"
   ]
  },
  {
   "cell_type": "markdown",
   "id": "2fcb40ef",
   "metadata": {},
   "source": [
    "Check your answer:"
   ]
  },
  {
   "cell_type": "code",
   "execution_count": null,
   "id": "448dd40f",
   "metadata": {},
   "outputs": [],
   "source": [
    "grader.check(\"Question 1\")"
   ]
  },
  {
   "cell_type": "markdown",
   "id": "83fc33e0",
   "metadata": {},
   "source": [
    "### Question 2\n",
    "\n"
   ]
  },
  {
   "cell_type": "markdown",
   "id": "9f32eb50",
   "metadata": {},
   "source": [
    "Sort the values in the following dataframe according to descending temperatures."
   ]
  },
  {
   "cell_type": "code",
   "execution_count": null,
   "id": "c21b885d",
   "metadata": {},
   "outputs": [],
   "source": [
    "# Creating a DataFrame\n",
    "data = {\n",
    "    'Date': ['2023-03-05', '2023-03-03', '2023-03-04', '2023-03-05', '2023-03-03', '2023-03-04', '2023-03-02', '2023-03-01', '2023-03-02', '2023-03-01', '2023-03-05', '2023-03-03', '2023-03-04', '2023-03-02', '2023-03-01'],\n",
    "    'City': ['New York', 'New York', 'New York', 'Los Angeles', 'Los Angeles', 'Los Angeles', 'Los Angeles', 'Los Angeles', 'New York', 'New York', 'Chicago', 'Chicago', 'Chicago', 'Chicago', 'Chicago'],\n",
    "    'Temperature': [12, 10, 11, 19, 18, 20, 17, 16, 9, 8, 5, 7, 6, 4, 3]\n",
    "}\n",
    "\n",
    "temperatures = pd.DataFrame(data)\n",
    "display(temperatures)\n"
   ]
  },
  {
   "cell_type": "code",
   "execution_count": null,
   "id": "0343d3f0",
   "metadata": {},
   "outputs": [],
   "source": [
    "temperatures.sort_values(by=\"Temperature\", ascending=False)\n",
    "class Question2:\n",
    "    \n",
    "    temperatures_sorted = ... # your answer\n",
    "    display(temperatures_sorted)"
   ]
  },
  {
   "cell_type": "code",
   "execution_count": null,
   "id": "8ea6fb42",
   "metadata": {},
   "outputs": [],
   "source": [
    "grader.check(\"Question 2\")"
   ]
  },
  {
   "cell_type": "markdown",
   "id": "64c080dc",
   "metadata": {},
   "source": [
    "### Question 3\n",
    "\n",
    "Create a new dataframe `cold_temperatures`, which contains only the rows, where the temperature is below 15 degrees. "
   ]
  },
  {
   "cell_type": "code",
   "execution_count": null,
   "id": "5c2470da",
   "metadata": {},
   "outputs": [],
   "source": [
    "class Question3:\n",
    "    \n",
    "    cold_temperatures = ...  # your answer\n",
    "    display(cold_temperatures)"
   ]
  },
  {
   "cell_type": "code",
   "execution_count": null,
   "id": "fbe82c94",
   "metadata": {},
   "outputs": [],
   "source": [
    "grader.check(\"Question 3\")"
   ]
  },
  {
   "cell_type": "code",
   "execution_count": null,
   "id": "242e095c",
   "metadata": {},
   "outputs": [],
   "source": []
  }
 ],
 "metadata": {
  "kernelspec": {
   "display_name": "Python 3 (ipykernel)",
   "language": "python",
   "name": "python3"
  },
  "language_info": {
   "codemirror_mode": {
    "name": "ipython",
    "version": 3
   },
   "file_extension": ".py",
   "mimetype": "text/x-python",
   "name": "python",
   "nbconvert_exporter": "python",
   "pygments_lexer": "ipython3",
   "version": "3.10.11"
  }
 },
 "nbformat": 4,
 "nbformat_minor": 5
}
