{
 "cells": [
  {
   "cell_type": "markdown",
   "id": "9b0fe286",
   "metadata": {},
   "source": [
    "# Exercise sheet 2\n",
    "\n",
    "Topics of this exercise sheet are:\n",
    "\n",
    "* Work with Jupyter\n",
    "* Lecture 2: Tidy data, pandas\n",
    "\n",
    "Please let us know if you have questions or problems! <br>\n",
    "Contact us during the exercise session or on [Piazza](https://piazza.com/unibas.ch/spring2024/63982)\n",
    "\n",
    "\n",
    "**Automatic Feedback**\n",
    "\n",
    "This notebook can be automatically graded using Otter grader. To find how many points you get, simply run `grader.check_all()` from a new cell. "
   ]
  },
  {
   "cell_type": "markdown",
   "id": "52bdd705",
   "metadata": {},
   "source": [
    "### Setting up the grader\n",
    "\n",
    "Please run the following two cells to set up the grading system. "
   ]
  },
  {
   "cell_type": "code",
   "execution_count": null,
   "id": "e4e5871c",
   "metadata": {
    "deletable": false,
    "editable": false
   },
   "outputs": [],
   "source": [
    "# Initialize Otter\n",
    "import otter\n",
    "grader = otter.Notebook(\"02-exercise-pids2024.ipynb\")"
   ]
  },
  {
   "cell_type": "code",
   "execution_count": null,
   "id": "876e413c",
   "metadata": {},
   "outputs": [],
   "source": [
    "import numpy as np\n",
    "from pandas import DataFrame as df\n",
    "import otter\n",
    "grader = otter.Notebook()"
   ]
  },
  {
   "cell_type": "markdown",
   "id": "ff9a0ea9",
   "metadata": {},
   "source": [
    "## 1 - Tidy data (9 points)\n",
    "\n",
    "### A (2 points)\n",
    "We will use data published by the [World Bank](https://data.worldbank.org/indicator/SP.POP.TOTL) about population in countries."
   ]
  },
  {
   "cell_type": "code",
   "execution_count": null,
   "id": "f90b39d4",
   "metadata": {},
   "outputs": [],
   "source": [
    "import pandas as pd\n",
    "\n",
    "population = pd.read_csv(\"population_data.csv\", skiprows=3).dropna(how='all', axis=1)\n",
    "population.head()"
   ]
  },
  {
   "cell_type": "markdown",
   "id": "6837b280",
   "metadata": {},
   "source": [
    "**Question 1**:\n",
    "Manipulate the dataframe \"population\" to be tidy. Currently, column headers are values, not variable names.\n",
    "\n",
    "* Make a new dataframe \"population_melted\" that contains the same data as \"population\", but\n",
    "    * it has a new column \"Year\" containing the year of the observation\n",
    "    * it has a new column \"Population\" containing the number of inhabitants of the country in this year\n",
    "    * otherwise, it has exactly the same columns and data as \"population\"\n",
    "*Hint*: you can use 'pd.melt'."
   ]
  },
  {
   "cell_type": "code",
   "execution_count": null,
   "id": "11ae136a",
   "metadata": {},
   "outputs": [],
   "source": [
    "class Question1:\n",
    "    population_melted = ..."
   ]
  },
  {
   "cell_type": "code",
   "execution_count": null,
   "id": "de51688c",
   "metadata": {
    "deletable": false,
    "editable": false
   },
   "outputs": [],
   "source": [
    "grader.check(\"Question 1\")"
   ]
  },
  {
   "cell_type": "markdown",
   "id": "fe8c6c63",
   "metadata": {},
   "source": [
    "**Question 2**: Sort the dataframe population_melted by \"Country Name\" and \"Year\""
   ]
  },
  {
   "cell_type": "code",
   "execution_count": null,
   "id": "c96ab372",
   "metadata": {},
   "outputs": [],
   "source": [
    "class Question2:\n",
    "    # You can access the population from above as \n",
    "    # Question1.population_melted\n",
    "    population_melted_sort = ..."
   ]
  },
  {
   "cell_type": "code",
   "execution_count": null,
   "id": "3b044e80",
   "metadata": {
    "deletable": false,
    "editable": false
   },
   "outputs": [],
   "source": [
    "grader.check(\"Question 2\")"
   ]
  },
  {
   "cell_type": "markdown",
   "id": "b463f0c6",
   "metadata": {},
   "source": [
    "### B (3 points)\n",
    "We will use data about the average height in countries around the world. It comes from [Kaggle](https://www.kaggle.com/majyhain/height-of-male-and-female-by-country-2022)."
   ]
  },
  {
   "cell_type": "code",
   "execution_count": null,
   "id": "1ac76155",
   "metadata": {},
   "outputs": [],
   "source": [
    "height = pd.read_csv(\"height_2022.csv\")\n",
    "height.head(-1)"
   ]
  },
  {
   "cell_type": "markdown",
   "id": "47ada30b",
   "metadata": {},
   "source": [
    "**Question 3**: Make a new dataframe \"height_tidy\" where you removed the columns \"Male Height in Ft\", \"Female Height in Ft\""
   ]
  },
  {
   "cell_type": "code",
   "execution_count": null,
   "id": "56ff1fe9",
   "metadata": {},
   "outputs": [],
   "source": [
    "class Question3:\n",
    "    height_tidy = ..."
   ]
  },
  {
   "cell_type": "code",
   "execution_count": null,
   "id": "7e3767a0",
   "metadata": {
    "deletable": false,
    "editable": false
   },
   "outputs": [],
   "source": [
    "grader.check(\"Question 3\")"
   ]
  },
  {
   "cell_type": "markdown",
   "id": "07382104",
   "metadata": {},
   "source": [
    "**Question 4**: Manipulate the dataframe \"height_tidy\" to be tidy. Currently, multiple variables are stored in one column.\n",
    "\n",
    "* Make a new dataframe \"height_melt\" that contains the same data as \"height_tidy\", but\n",
    "    * it has a new column \"Sex\" containing a single character \"M\" or \"F\" for \"male\"/\"female\"\n",
    "    * it has a new column \"Height in Cm\" containing data about the height in cm"
   ]
  },
  {
   "cell_type": "code",
   "execution_count": null,
   "id": "d6a9c86a",
   "metadata": {
    "nbgrader": {
     "grade": false,
     "grade_id": "cell-b774d9d556851043",
     "locked": false,
     "schema_version": 3,
     "solution": true,
     "task": false
    }
   },
   "outputs": [],
   "source": [
    "class Question4:\n",
    "    \n",
    "    # You can access height_tidy using Question3.height_tidy\n",
    "    \n",
    "    height_melt = ...\n",
    "    ...\n",
    "\n",
    "    # shrink the data on gender to one letter\n",
    "    ...\n",
    "\n",
    "    # show that it works\n",
    "    display(height_melt.head(5))"
   ]
  },
  {
   "cell_type": "code",
   "execution_count": null,
   "id": "ad467d4f",
   "metadata": {
    "deletable": false,
    "editable": false
   },
   "outputs": [],
   "source": [
    "grader.check(\"Question 4\")"
   ]
  },
  {
   "cell_type": "markdown",
   "id": "159b4c05",
   "metadata": {},
   "source": [
    "### C (4 points)\n",
    "We will work with data about billboards in the 2000s (as in the lecture)."
   ]
  },
  {
   "cell_type": "code",
   "execution_count": null,
   "id": "144ecae8",
   "metadata": {},
   "outputs": [],
   "source": [
    "billboard = pd.read_csv(\"billboard_intermediate.csv\")\n",
    "billboard.head()"
   ]
  },
  {
   "cell_type": "markdown",
   "id": "1e956b47",
   "metadata": {},
   "source": [
    "**Question 5:**: Manipulate the dataframe \"billboard\" into two dataframes that each store one observational unit.\n",
    "\n",
    "* Make a new dataframe \"billboard_songs\" that contains information about the songs\n",
    "    * It should contain these columns from the \"billboard\" dataframe: \"artist.inverted\", \"track\", \"time\", \"genre\"\n",
    "* Make a new dataframe \"billboard_charts\" that contains information about the chart performance of the songs\n",
    "    * It should contain these columns from the \"billboard\" dataframe: \"date\", \"date.peaked\", \"week\", \"rank\"\n",
    "* Additionally, both dataframes should contain a column named \"track_id\" that gives each track a unique ID and links the information in the two dataframes.\n",
    "\n",
    "(Hint: Pandas has a function [.groupby().ngroup()](https://stackoverflow.com/questions/39665374/how-to-make-a-group-id-using-pandas) that could help you with the track id)"
   ]
  },
  {
   "cell_type": "code",
   "execution_count": null,
   "id": "8565e2f0",
   "metadata": {
    "nbgrader": {
     "grade": false,
     "grade_id": "cell-262fb79928ed7861",
     "locked": false,
     "schema_version": 3,
     "solution": true,
     "task": false
    }
   },
   "outputs": [],
   "source": [
    "class Question5:\n",
    "    # First add the track id\n",
    "    ...\n",
    "\n",
    "    # Now split the dataframe\n",
    "    ...\n",
    "    billboard_songs = ...\n",
    "    display(billboard_songs.head())\n",
    "\n",
    "    billboard_charts = ...\n",
    "    display(billboard_charts.head())"
   ]
  },
  {
   "cell_type": "code",
   "execution_count": null,
   "id": "603aa7f8",
   "metadata": {
    "deletable": false,
    "editable": false
   },
   "outputs": [],
   "source": [
    "grader.check(\"Question 5\")"
   ]
  },
  {
   "cell_type": "markdown",
   "id": "4e1b7078",
   "metadata": {},
   "source": [
    "## 2 - EDA (6 points)"
   ]
  },
  {
   "cell_type": "markdown",
   "id": "097b6cf7",
   "metadata": {},
   "source": [
    "### A (2 points)\n",
    "Let's answer one more question about billboard hits in the 2000s. Use the billboard, billboard_songs or billboard_charts dataframes from the previous tasks."
   ]
  },
  {
   "cell_type": "markdown",
   "id": "d564c37e",
   "metadata": {},
   "source": [
    "**Question 6**: What was the number one hit (rank = 1) on 2000/07/29? This question may seem random (and it is), but this is the 2000s! This is the day on which Jennifer Aniston married Brad Pitt. Did they play this song? Who knows.\n",
    "\n",
    "* Define one variable\n",
    "    * \"name_song\": Name of the song that was at rank 1 on the given date"
   ]
  },
  {
   "cell_type": "code",
   "execution_count": null,
   "id": "99016627",
   "metadata": {
    "nbgrader": {
     "grade": false,
     "grade_id": "cell-75a4834772643fcd",
     "locked": false,
     "schema_version": 3,
     "solution": true,
     "task": false
    }
   },
   "outputs": [],
   "source": [
    "class Question6:  \n",
    "    ...\n",
    "    name_song = ...\n",
    "    display(name_song)"
   ]
  },
  {
   "cell_type": "code",
   "execution_count": null,
   "id": "00cbd45d",
   "metadata": {
    "deletable": false,
    "editable": false
   },
   "outputs": [],
   "source": [
    "grader.check(\"Question 6\")"
   ]
  },
  {
   "cell_type": "markdown",
   "id": "b82c6de0",
   "metadata": {},
   "source": [
    "### 2b (4 points)\n",
    "Let's answer some questions about average heights. Use the height, height_tidy or height_melt dataframes from previous tasks."
   ]
  },
  {
   "cell_type": "markdown",
   "id": "bde0356f",
   "metadata": {},
   "source": [
    "**Question 7**: What's the country with the tallest men?\n",
    "\n",
    "* Define two variables\n",
    "    * \"country_tallest_men\": Name of the country of tallest men as a string\n",
    "    * \"height_tallest_men\": Average height of men in this country in cm\n",
    "\n",
    "(Hint: Pandas function max() can help here!)"
   ]
  },
  {
   "cell_type": "code",
   "execution_count": null,
   "id": "b6af8a0a",
   "metadata": {
    "nbgrader": {
     "grade": false,
     "grade_id": "cell-4283fe78120f5a5d",
     "locked": false,
     "schema_version": 3,
     "solution": true,
     "task": false
    }
   },
   "outputs": [],
   "source": [
    "class Question7:\n",
    "    ...\n",
    "\n",
    "    country_tallest_men = ...\n",
    "    height_tallest_men = ..."
   ]
  },
  {
   "cell_type": "code",
   "execution_count": null,
   "id": "6c1e42d0",
   "metadata": {
    "deletable": false,
    "editable": false
   },
   "outputs": [],
   "source": [
    "grader.check(\"Question 7\")"
   ]
  },
  {
   "cell_type": "markdown",
   "id": "db5894a9",
   "metadata": {},
   "source": [
    "**Question8**: In which country is the difference of average heights between men and women largest?\n",
    "\n",
    "* Define two variables\n",
    "    * \"country_largest_difference\": Name of the country where the average height difference between men and women is largest\n",
    "    * \"largest_difference\": Difference of average heights of men and women in this country in cm"
   ]
  },
  {
   "cell_type": "code",
   "execution_count": null,
   "id": "c280a5a4",
   "metadata": {
    "nbgrader": {
     "grade": false,
     "grade_id": "cell-4e575ca703ccbd4e",
     "locked": false,
     "schema_version": 3,
     "solution": true,
     "task": false
    }
   },
   "outputs": [],
   "source": [
    "class Question8:\n",
    "    ...\n",
    "\n",
    "    ...\n",
    "\n",
    "    country_largest_difference = ...\n",
    "    largest_difference = ..."
   ]
  },
  {
   "cell_type": "code",
   "execution_count": null,
   "id": "382f16b9",
   "metadata": {
    "deletable": false,
    "editable": false
   },
   "outputs": [],
   "source": [
    "grader.check(\"Question 8\")"
   ]
  },
  {
   "cell_type": "markdown",
   "id": "b62f9590",
   "metadata": {},
   "source": [
    "**Question 9**: What's (Pearson's) correlation value of average male and average female height?\n",
    "\n",
    "* Define a new variable \"corr_avg_heights\" that contains the correlation value of average male and female heights\n",
    "\n",
    "(Hint: Use Panda's function corr().)"
   ]
  },
  {
   "cell_type": "code",
   "execution_count": null,
   "id": "1b4d27b8",
   "metadata": {
    "nbgrader": {
     "grade": false,
     "grade_id": "cell-b5438d2320f5d36d",
     "locked": false,
     "schema_version": 3,
     "solution": true,
     "task": false
    }
   },
   "outputs": [],
   "source": [
    "class Question9:\n",
    "    corr_avg_heights = ..."
   ]
  },
  {
   "cell_type": "code",
   "execution_count": null,
   "id": "10167f1b",
   "metadata": {
    "deletable": false,
    "editable": false
   },
   "outputs": [],
   "source": [
    "grader.check(\"Question 9\")"
   ]
  },
  {
   "cell_type": "markdown",
   "id": "0bcf9745",
   "metadata": {
    "deletable": false,
    "editable": false
   },
   "source": [
    "---\n",
    "\n",
    "To double-check your work, the cell below will rerun all of the autograder tests."
   ]
  },
  {
   "cell_type": "code",
   "execution_count": null,
   "id": "de9e3543",
   "metadata": {
    "deletable": false,
    "editable": false
   },
   "outputs": [],
   "source": [
    "grader.check_all()"
   ]
  },
  {
   "cell_type": "markdown",
   "id": "67118ead-2870-4865-8392-1590ee4b4978",
   "metadata": {
    "deletable": false
   },
   "source": [
    "## Submission\n",
    "\n",
    "Please download this notebook as a .ipynb file and submit it on Adam. To download the notebook choose \n",
    "> File->Download as->Notebook (.ipynb)\n",
    "\n",
    "in the menu."
   ]
  }
 ],
 "metadata": {
  "celltoolbar": "Edit Metadata",
  "kernelspec": {
   "display_name": "Python 3 (ipykernel)",
   "language": "python",
   "name": "conda-env-pids_2023-py"
  },
  "language_info": {
   "codemirror_mode": {
    "name": "ipython",
    "version": 3
   },
   "file_extension": ".py",
   "mimetype": "text/x-python",
   "name": "python",
   "nbconvert_exporter": "python",
   "pygments_lexer": "ipython3",
   "version": "3.10.11"
  }
 },
 "nbformat": 4,
 "nbformat_minor": 5
}
